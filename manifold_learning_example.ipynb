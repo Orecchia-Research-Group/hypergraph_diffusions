{
 "cells": [
  {
   "cell_type": "code",
   "execution_count": 1,
   "metadata": {},
   "outputs": [],
   "source": [
    "import numpy as np\n",
    "import matplotlib\n",
    "import matplotlib.pyplot as plt\n",
    "import os\n",
    "from sklearn import metrics\n",
    "\n",
    "from diffusion_functions import *\n",
    "from semi_supervised_manifold_learning import *\n",
    "from animate_diffusion import animate_diffusion\n",
    "\n",
    "# commands for displaying animations in jupyter notebook\n",
    "from IPython.display import HTML\n",
    "\n",
    "%load_ext autoreload\n",
    "%autoreload 2"
   ]
  },
  {
   "cell_type": "code",
   "execution_count": 2,
   "metadata": {},
   "outputs": [],
   "source": [
    "def plot_label_comparison_binary(ax, label_vector, data_matrix, titlestring=None):\n",
    "    error, threshold = find_min_sweepcut(label_vector,100,sweep_cut_classification_error)\n",
    "    label_estimates = make_sweep_cut(label_vector, threshold)\n",
    "    error = sweep_cut_classification_error(label_estimates)\n",
    "    im = ax.scatter(data_matrix[:,0],data_matrix[:,1], c=label_estimates)\n",
    "    \n",
    "    # figure formatting\n",
    "    ax.set_aspect('equal')\n",
    "    ax.spines[\"top\"].set_visible(False)\n",
    "    ax.spines[\"right\"].set_visible(False)\n",
    "    ax.spines[\"bottom\"].set_visible(False)\n",
    "    ax.spines[\"left\"].set_visible(False)\n",
    "    ax.axis('off')\n",
    "    if titlestring=='Abridged':\n",
    "        ax.set_title(f'Classification error = {error:.3f}', fontsize = 15)\n",
    "    else:\n",
    "        ax.set_title(titlestring +f'\\n Classification error = {error:.3f}', fontsize = 15)\n",
    "    return\n",
    "\n",
    "def final_plot_AUC_hist(AUC_vals, ax, decorated = False):\n",
    "    plt.rcParams.update({'font.size': 15})\n",
    "        \n",
    "    hypergraph_vals = [v[0] for v in AUC_vals]\n",
    "    graph_vals = [v[1] for v in AUC_vals]\n",
    "    \n",
    "    full_values = hypergraph_vals+graph_vals\n",
    "    _, first_bins = np.histogram(full_values, bins = 10)\n",
    "\n",
    "    # second style\n",
    "    ax.hist(graph_vals, bins = first_bins, alpha=0.5, edgecolor = 'black', label = 'graph')\n",
    "    ax.hist(hypergraph_vals, bins = first_bins, alpha=0.5, edgecolor = 'black', label='hypergraph')\n",
    "    \n",
    "    if decorated:\n",
    "        ax.set_title(f'AUC Values at Iteration 50 \\n Results from 50 Independent Trials')\n",
    "        ax.legend()\n",
    "        \n",
    "    # figure formatting\n",
    "    ax.spines[\"top\"].set_visible(False)\n",
    "    ax.spines[\"right\"].set_visible(False)\n",
    "    ax.tick_params(axis='x', labelsize=15)\n",
    "    ax.tick_params(axis='y', labelsize=15)\n",
    "    return"
   ]
  },
  {
   "cell_type": "code",
   "execution_count": 3,
   "metadata": {},
   "outputs": [
    {
     "ename": "NameError",
     "evalue": "name 'compare_diffusion_labels' is not defined",
     "output_type": "error",
     "traceback": [
      "\u001b[0;31m---------------------------------------------------------------------------\u001b[0m",
      "\u001b[0;31mNameError\u001b[0m                                 Traceback (most recent call last)",
      "\u001b[0;32m<ipython-input-3-6f0679404c06>\u001b[0m in \u001b[0;36m<module>\u001b[0;34m()\u001b[0m\n\u001b[1;32m      9\u001b[0m \u001b[0mfig\u001b[0m\u001b[0;34m,\u001b[0m \u001b[0max\u001b[0m \u001b[0;34m=\u001b[0m \u001b[0mplt\u001b[0m\u001b[0;34m.\u001b[0m\u001b[0msubplots\u001b[0m\u001b[0;34m(\u001b[0m\u001b[0mnrows\u001b[0m\u001b[0;34m=\u001b[0m\u001b[0;36m1\u001b[0m\u001b[0;34m,\u001b[0m \u001b[0mncols\u001b[0m\u001b[0;34m=\u001b[0m\u001b[0;36m2\u001b[0m\u001b[0;34m,\u001b[0m\u001b[0mfigsize\u001b[0m\u001b[0;34m=\u001b[0m\u001b[0;34m(\u001b[0m\u001b[0;36m10\u001b[0m\u001b[0;34m,\u001b[0m \u001b[0;36m5\u001b[0m\u001b[0;34m)\u001b[0m\u001b[0;34m)\u001b[0m\u001b[0;34m\u001b[0m\u001b[0;34m\u001b[0m\u001b[0m\n\u001b[1;32m     10\u001b[0m \u001b[0;34m\u001b[0m\u001b[0m\n\u001b[0;32m---> 11\u001b[0;31m graph_x, hypergraph_x, data_matrix = compare_diffusion_labels(data_generation,k,target_iteration,\n\u001b[0m\u001b[1;32m     12\u001b[0m                         diffusion_step_size,titlestring=None)\n\u001b[1;32m     13\u001b[0m \u001b[0;34m\u001b[0m\u001b[0m\n",
      "\u001b[0;31mNameError\u001b[0m: name 'compare_diffusion_labels' is not defined"
     ]
    },
    {
     "data": {
      "image/png": "[encoded data removed]",
      "text/plain": [
       "<Figure size 720x360 with 2 Axes>"
      ]
     },
     "metadata": {},
     "output_type": "display_data"
    }
   ],
   "source": [
    "k = 5\n",
    "target_iteration = 50\n",
    "diffusion_step_size = 1\n",
    "\n",
    "data_generation, problem_kind = (generate_concentric_rectangles,'rectangles')\n",
    "#(generate_spirals,' Spirals')\n",
    "\n",
    "# Illustrating example labels\n",
    "fig, ax = plt.subplots(nrows=1, ncols=2,figsize=(10, 5))\n",
    "\n",
    "graph_x, hypergraph_x, data_matrix = compare_diffusion_labels(data_generation,\n",
    "                                                              k,\n",
    "                                                              target_iteration,diffusion_step_size,\n",
    "                                                              titlestring=None)\n",
    "\n",
    "for idx,(x,titlestring) in enumerate([(graph_x[-1],'Graph'), (hypergraph_x[-1],'Hypergraph')]):\n",
    "    plot_label_comparison_binary(ax[idx],x, data_matrix,titlestring)\n",
    "        \n",
    "plt.suptitle(f'Label estimates \\n Iteration {target_iteration}', fontsize = 15)    \n",
    "plt.show()\n",
    "\n",
    "# AUC Histograms\n",
    "num_trials = 5\n",
    "fig, ax = plt.subplots( figsize = (6, 5))\n",
    "\n",
    "AUC_vals = []\n",
    "for trial in range(num_trials):\n",
    "    # generate new data\n",
    "    _,data_matrix = data_generation(verbose=False)\n",
    "\n",
    "    # build graph/hypergraph\n",
    "    knn_adj_matrix = build_knn_graph(data_matrix,k)\n",
    "    knn_hgraph_dict = build_knn_hypergraph(data_matrix,k)\n",
    "\n",
    "    # run diffusion\n",
    "    hypergraph_diff_results, graph_diff_results = diffusion_knn_clustering(knn_adj_matrix,\n",
    "                    knn_hgraph_dict, num_iterations = target_iteration, verbose = False)\n",
    "\n",
    "    hypergraph_x = hypergraph_diff_results['x']\n",
    "    graph_x = graph_diff_results['x']\n",
    "\n",
    "    n = data_matrix.shape[0]\n",
    "    labels = np.hstack([np.full(shape=int(n/2),fill_value = -1),np.full(shape=int(n/2),fill_value = 1)])\n",
    "    graph_auc_score = metrics.roc_auc_score(labels, graph_x[-1, :])\n",
    "    hypergraph_auc_score = metrics.roc_auc_score(labels, hypergraph_x[-1, :])\n",
    "\n",
    "    AUC_vals.append((hypergraph_auc_score, graph_auc_score))\n",
    "final_plot_AUC_hist(AUC_vals, ax = ax, decorated = True )\n",
    "plt.show()"
   ]
  },
  {
   "cell_type": "code",
   "execution_count": null,
   "metadata": {},
   "outputs": [],
   "source": []
  }
 ],
 "metadata": {
  "kernelspec": {
   "display_name": "Python 3",
   "language": "python",
   "name": "python3"
  },
  "language_info": {
   "codemirror_mode": {
    "name": "ipython",
    "version": 3
   },
   "file_extension": ".py",
   "mimetype": "text/x-python",
   "name": "python",
   "nbconvert_exporter": "python",
   "pygments_lexer": "ipython3",
   "version": "3.6.10"
  }
 },
 "nbformat": 4,
 "nbformat_minor": 2
}
