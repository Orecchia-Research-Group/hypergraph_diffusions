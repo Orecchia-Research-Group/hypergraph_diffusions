{
 "cells": [
  {
   "cell_type": "code",
   "execution_count": 5,
   "metadata": {},
   "outputs": [
    {
     "name": "stdout",
     "output_type": "stream",
     "text": [
      "The autoreload extension is already loaded. To reload it, use:\n",
      "  %reload_ext autoreload\n"
     ]
    }
   ],
   "source": [
    "import numpy as np\n",
    "import matplotlib\n",
    "import matplotlib.pyplot as plt\n",
    "import os\n",
    "from sklearn import metrics\n",
    "\n",
    "from diffusion_functions import *\n",
    "from semi_supervised_manifold_learning import *\n",
    "from yelp_restaurant_clustering import *\n",
    "from animate_diffusion import animate_diffusion\n",
    "\n",
    "# commands for displaying animations in jupyter notebook\n",
    "from IPython.display import HTML\n",
    "\n",
    "%load_ext autoreload\n",
    "%autoreload 2"
   ]
  },
  {
   "cell_type": "markdown",
   "metadata": {},
   "source": [
    "# Instance illustration"
   ]
  },
  {
   "cell_type": "code",
   "execution_count": 6,
   "metadata": {},
   "outputs": [],
   "source": [
    "def plot_label_comparison_binary(ax, label_vector, data_matrix, titlestring=None):\n",
    "    error, threshold = find_min_sweepcut(label_vector,100,sweep_cut_classification_error)\n",
    "    #threshold = 0\n",
    "    label_estimates = make_sweep_cut(label_vector, threshold)\n",
    "    error = sweep_cut_classification_error(label_estimates)\n",
    "    \n",
    "    community_size = int(len(label_vector)/2)\n",
    "    im = ax.scatter(data_matrix[:,0],data_matrix[:,1], c=label_estimates)\n",
    "    #im = ax.scatter(data_matrix[:community_size,0],data_matrix[:community_size,1], c=label_estimates[:community_size])\n",
    "    #plt.colorbar(im, ax=ax)\n",
    "    \n",
    "    # figure formatting\n",
    "    ax.set_aspect('equal')\n",
    "    ax.spines[\"top\"].set_visible(False)\n",
    "    ax.spines[\"right\"].set_visible(False)\n",
    "    ax.spines[\"bottom\"].set_visible(False)\n",
    "    ax.spines[\"left\"].set_visible(False)\n",
    "    ax.axis('off')\n",
    "    if titlestring=='Abridged':\n",
    "        ax.set_title(f'Classification error = {error:.3f}', fontsize = 15)\n",
    "    else:\n",
    "        ax.set_title(titlestring +f'\\n Classification error = {error:.3f}', fontsize = 15)\n",
    "    return"
   ]
  },
  {
   "cell_type": "code",
   "execution_count": 7,
   "metadata": {
    "scrolled": false
   },
   "outputs": [
    {
     "name": "stdout",
     "output_type": "stream",
     "text": [
      "  Time (s) # Iter    ||dx||_D^2        F(x(t))\n"
     ]
    },
    {
     "ename": "TypeError",
     "evalue": "ufunc 'subtract' output (typecode 'O') could not be coerced to provided output parameter (typecode 'd') according to the casting rule ''same_kind''",
     "output_type": "error",
     "traceback": [
      "\u001b[0;31m---------------------------------------------------------------------------\u001b[0m",
      "\u001b[0;31mTypeError\u001b[0m                                 Traceback (most recent call last)",
      "\u001b[0;32m<ipython-input-7-12f07ed43c3d>\u001b[0m in \u001b[0;36m<module>\u001b[0;34m()\u001b[0m\n\u001b[1;32m     10\u001b[0m \u001b[0;34m\u001b[0m\u001b[0m\n\u001b[1;32m     11\u001b[0m     graph_x, hypergraph_x, data_matrix = compare_estimated_labels(data_generation,k,target_iternum,\n\u001b[0;32m---> 12\u001b[0;31m                         diffusion_step_size,titlestring=None)\n\u001b[0m\u001b[1;32m     13\u001b[0m \u001b[0;34m\u001b[0m\u001b[0m\n\u001b[1;32m     14\u001b[0m     \u001b[0;32mfor\u001b[0m \u001b[0midx\u001b[0m\u001b[0;34m,\u001b[0m\u001b[0;34m(\u001b[0m\u001b[0mx\u001b[0m\u001b[0;34m,\u001b[0m\u001b[0mtitlestring\u001b[0m\u001b[0;34m)\u001b[0m \u001b[0;32min\u001b[0m \u001b[0menumerate\u001b[0m\u001b[0;34m(\u001b[0m\u001b[0;34m[\u001b[0m\u001b[0;34m(\u001b[0m\u001b[0mgraph_x\u001b[0m\u001b[0;34m[\u001b[0m\u001b[0;34m-\u001b[0m\u001b[0;36m1\u001b[0m\u001b[0;34m]\u001b[0m\u001b[0;34m,\u001b[0m\u001b[0;34m'Graph'\u001b[0m\u001b[0;34m)\u001b[0m\u001b[0;34m,\u001b[0m \u001b[0;34m(\u001b[0m\u001b[0mhypergraph_x\u001b[0m\u001b[0;34m[\u001b[0m\u001b[0;34m-\u001b[0m\u001b[0;36m1\u001b[0m\u001b[0;34m]\u001b[0m\u001b[0;34m,\u001b[0m\u001b[0;34m'Hypergraph'\u001b[0m\u001b[0;34m)\u001b[0m\u001b[0;34m]\u001b[0m\u001b[0;34m)\u001b[0m\u001b[0;34m:\u001b[0m\u001b[0;34m\u001b[0m\u001b[0;34m\u001b[0m\u001b[0m\n",
      "\u001b[0;32m~/Documents/GitHub/hypergraph_diffusions/semi_supervised_manifold_learning.py\u001b[0m in \u001b[0;36mcompare_estimated_labels\u001b[0;34m(generate_data, k, target_iteration, diffusion_step_size, titlestring)\u001b[0m\n\u001b[1;32m    464\u001b[0m         \u001b[0mn\u001b[0m \u001b[0;34m=\u001b[0m \u001b[0mdata_matrix\u001b[0m\u001b[0;34m.\u001b[0m\u001b[0mshape\u001b[0m\u001b[0;34m[\u001b[0m\u001b[0;36m1\u001b[0m\u001b[0;34m]\u001b[0m\u001b[0;34m\u001b[0m\u001b[0;34m\u001b[0m\u001b[0m\n\u001b[1;32m    465\u001b[0m \thypergraph_diff_results, graph_diff_results = semi_superivsed_knn_clustering(knn_adj_matrix,\n\u001b[0;32m--> 466\u001b[0;31m \t\t\t\t\tknn_hgraph_dict, num_iterations = target_iteration, verbose = False)\n\u001b[0m\u001b[1;32m    467\u001b[0m \u001b[0;34m\u001b[0m\u001b[0m\n\u001b[1;32m    468\u001b[0m         \u001b[0;32mreturn\u001b[0m \u001b[0mgraph_diff_results\u001b[0m\u001b[0;34m[\u001b[0m\u001b[0;34m'x'\u001b[0m\u001b[0;34m]\u001b[0m\u001b[0;34m,\u001b[0m \u001b[0mhypergraph_diff_results\u001b[0m\u001b[0;34m[\u001b[0m\u001b[0;34m'x'\u001b[0m\u001b[0;34m]\u001b[0m\u001b[0;34m,\u001b[0m \u001b[0mdata_matrix\u001b[0m\u001b[0;34m\u001b[0m\u001b[0;34m\u001b[0m\u001b[0m\n",
      "\u001b[0;32m~/Documents/GitHub/hypergraph_diffusions/semi_supervised_manifold_learning.py\u001b[0m in \u001b[0;36msemi_superivsed_knn_clustering\u001b[0;34m(knn_adj_matrix, knn_hgraph_dict, s_vector, hypergraph_objective, num_rand_seeds, step_size, num_iterations, verbose)\u001b[0m\n\u001b[1;32m    281\u001b[0m         \u001b[0;31m# for our hypergraph, first specify the edge objective function\u001b[0m\u001b[0;34m\u001b[0m\u001b[0;34m\u001b[0m\u001b[0;34m\u001b[0m\u001b[0m\n\u001b[1;32m    282\u001b[0m \tx, y ,fx = diffusion(x0, n, m, D, hypergraph, weights=None, func=hypergraph_objective, \n\u001b[0;32m--> 283\u001b[0;31m \t\t\t\t\t\t s=s_vector, h=step_size, T=num_iterations, verbose=verbose)\n\u001b[0m\u001b[1;32m    284\u001b[0m \u001b[0;34m\u001b[0m\u001b[0m\n\u001b[1;32m    285\u001b[0m         \u001b[0;32mif\u001b[0m \u001b[0mnp\u001b[0m\u001b[0;34m.\u001b[0m\u001b[0mall\u001b[0m\u001b[0;34m(\u001b[0m\u001b[0ms_vector\u001b[0m\u001b[0;34m==\u001b[0m\u001b[0;32mNone\u001b[0m\u001b[0;34m)\u001b[0m\u001b[0;34m:\u001b[0m\u001b[0;34m\u001b[0m\u001b[0;34m\u001b[0m\u001b[0m\n",
      "\u001b[0;32m~/Documents/GitHub/hypergraph_diffusions/diffusion_functions.py\u001b[0m in \u001b[0;36mdiffusion\u001b[0;34m(x0, n, m, D, hypergraph, weights, s, lamda, center_id, hypergraph_node_weights, func, h, T, eps, regularizer, verbose)\u001b[0m\n\u001b[1;32m    234\u001b[0m     \u001b[0;32mwhile\u001b[0m \u001b[0;32mTrue\u001b[0m\u001b[0;34m:\u001b[0m\u001b[0;34m\u001b[0m\u001b[0;34m\u001b[0m\u001b[0m\n\u001b[1;32m    235\u001b[0m         \u001b[0mgradient\u001b[0m\u001b[0;34m,\u001b[0m \u001b[0mnew_y\u001b[0m\u001b[0;34m,\u001b[0m \u001b[0mnew_fx\u001b[0m \u001b[0;34m=\u001b[0m \u001b[0mfunc\u001b[0m\u001b[0;34m(\u001b[0m\u001b[0mx\u001b[0m\u001b[0;34m[\u001b[0m\u001b[0;34m-\u001b[0m\u001b[0;36m1\u001b[0m\u001b[0;34m]\u001b[0m\u001b[0;34m,\u001b[0m \u001b[0msparse_h\u001b[0m\u001b[0;34m,\u001b[0m \u001b[0mrank\u001b[0m\u001b[0;34m,\u001b[0m \u001b[0mW\u001b[0m\u001b[0;34m,\u001b[0m \u001b[0mD\u001b[0m\u001b[0;34m,\u001b[0m \u001b[0mcenter_id\u001b[0m\u001b[0;34m=\u001b[0m\u001b[0mcenter_id\u001b[0m\u001b[0;34m)\u001b[0m\u001b[0;34m\u001b[0m\u001b[0;34m\u001b[0m\u001b[0m\n\u001b[0;32m--> 236\u001b[0;31m         \u001b[0mgradient\u001b[0m \u001b[0;34m-=\u001b[0m \u001b[0ms\u001b[0m\u001b[0;34m\u001b[0m\u001b[0;34m\u001b[0m\u001b[0m\n\u001b[0m\u001b[1;32m    237\u001b[0m         \u001b[0mgradient\u001b[0m \u001b[0;34m+=\u001b[0m \u001b[0;34m(\u001b[0m\u001b[0mD\u001b[0m \u001b[0;34m*\u001b[0m \u001b[0mx\u001b[0m\u001b[0;34m[\u001b[0m\u001b[0;34m-\u001b[0m\u001b[0;36m1\u001b[0m\u001b[0;34m]\u001b[0m\u001b[0;34m.\u001b[0m\u001b[0mT\u001b[0m\u001b[0;34m)\u001b[0m\u001b[0;34m.\u001b[0m\u001b[0mT\u001b[0m \u001b[0;34m*\u001b[0m \u001b[0mlamda\u001b[0m\u001b[0;34m\u001b[0m\u001b[0;34m\u001b[0m\u001b[0m\n\u001b[1;32m    238\u001b[0m         \u001b[0mnew_fx\u001b[0m \u001b[0;34m-=\u001b[0m \u001b[0;34m(\u001b[0m\u001b[0mx\u001b[0m\u001b[0;34m[\u001b[0m\u001b[0;34m-\u001b[0m\u001b[0;36m1\u001b[0m\u001b[0;34m]\u001b[0m \u001b[0;34m*\u001b[0m \u001b[0ms\u001b[0m\u001b[0;34m)\u001b[0m\u001b[0;34m.\u001b[0m\u001b[0msum\u001b[0m\u001b[0;34m(\u001b[0m\u001b[0maxis\u001b[0m\u001b[0;34m=\u001b[0m\u001b[0;36m0\u001b[0m\u001b[0;34m)\u001b[0m\u001b[0;34m\u001b[0m\u001b[0;34m\u001b[0m\u001b[0m\n",
      "\u001b[0;31mTypeError\u001b[0m: ufunc 'subtract' output (typecode 'O') could not be coerced to provided output parameter (typecode 'd') according to the casting rule ''same_kind''"
     ]
    },
    {
     "data": {
      "image/png": "[encoded data removed]",
      "text/plain": [
       "<Figure size 720x1080 with 6 Axes>"
      ]
     },
     "metadata": {},
     "output_type": "display_data"
    }
   ],
   "source": [
    "k = 5\n",
    "target_iternum = 50\n",
    "diffusion_step_size = 1\n",
    "titlestring = 'blah'\n",
    "\n",
    "fig_binary, ax_binary = plt.subplots(nrows=3, ncols=2,figsize=(10, 15))\n",
    "problem_index = 0\n",
    "for data_generation, problem_kind in [(generate_spirals,' Spirals'), (generate_overlapping_rings,' Rings'),\n",
    "                                      (generate_concentric_highdim,' Concentric Highdim')]:\n",
    "    \n",
    "    graph_x, hypergraph_x, data_matrix = compare_estimated_labels(data_generation,k,target_iternum,\n",
    "                        diffusion_step_size,titlestring=None)\n",
    "\n",
    "    for idx,(x,titlestring) in enumerate([(graph_x[-1],'Graph'), (hypergraph_x[-1],'Hypergraph')]):\n",
    "        if problem_index==0:\n",
    "            plot_label_comparison_binary(ax_binary[problem_index, idx],x, data_matrix,titlestring)\n",
    "        else:\n",
    "            plot_label_comparison_binary(ax_binary[problem_index, idx],x, data_matrix,titlestring = 'Abridged')\n",
    "    problem_index+=1\n",
    "    \n",
    "plt.suptitle(f'Label estimates \\n Iteration {target_iternum}', fontsize = 15)    \n",
    "#plt.savefig('estimated_labels_example.pdf', bbox_inches='tight')\n",
    "plt.show()"
   ]
  },
  {
   "cell_type": "markdown",
   "metadata": {},
   "source": [
    "# AUC Histogram"
   ]
  },
  {
   "cell_type": "code",
   "execution_count": 4,
   "metadata": {},
   "outputs": [],
   "source": [
    "def plot_AUC_hist(AUC_vals, axes, abridged = True):\n",
    "    plt.rcParams.update({'font.size': 15})\n",
    "    if abridged:\n",
    "        titlestring = f'Iteration {max_iterations_needed}, over {num_trials} trials'\n",
    "    else:\n",
    "        titlestring = f'Iteration {max_iterations_needed}, over {num_trials} trials'\n",
    "        \n",
    "    # first style\n",
    "    _, first_bins, _ = axes[0].hist([[v[1] for v in AUC_vals], [v[0] for v in AUC_vals]], edgecolor = 'black', label=['graph', 'hypergraph'])\n",
    "    axes[0].legend()\n",
    "    axes[0].set_title(titlestring)\n",
    "\n",
    "    # second style\n",
    "    axes[1].hist([v[1] for v in AUC_vals], bins = first_bins, alpha=0.5, edgecolor = 'black', label = 'graph')\n",
    "    axes[1].hist([v[0] for v in AUC_vals], bins = first_bins, alpha=0.5, edgecolor = 'black', label='hypergraph')\n",
    "    axes[1].legend()\n",
    "    axes[1].set_title(titlestring)\n",
    "    \n",
    "    # figure formatting\n",
    "    for ax in axes:\n",
    "        ax.spines[\"top\"].set_visible(False)\n",
    "        ax.spines[\"right\"].set_visible(False)\n",
    "        ax.tick_params(axis='x', labelsize=15)\n",
    "        ax.tick_params(axis='y', labelsize=15)\n",
    "    return\n",
    "\n",
    "\n",
    "def final_plot_AUC_hist(AUC_vals, ax, decorated = False):\n",
    "    plt.rcParams.update({'font.size': 15})\n",
    "        \n",
    "    hypergraph_vals = [v[0] for v in AUC_vals]\n",
    "    graph_vals = [v[1] for v in AUC_vals]\n",
    "    \n",
    "    full_values = hypergraph_vals+graph_vals\n",
    "    _, first_bins = np.histogram(full_values, bins = 10)\n",
    "\n",
    "    # second style\n",
    "    ax.hist(graph_vals, bins = first_bins, alpha=0.5, edgecolor = 'black', label = 'graph')\n",
    "    ax.hist(hypergraph_vals, bins = first_bins, alpha=0.5, edgecolor = 'black', label='hypergraph')\n",
    "    \n",
    "    if decorated:\n",
    "        ax.set_title(f'AUC Values at Iteration 50 \\n Results from 50 Independent Trials')\n",
    "        ax.legend()\n",
    "        \n",
    "    # figure formatting\n",
    "    ax.spines[\"top\"].set_visible(False)\n",
    "    ax.spines[\"right\"].set_visible(False)\n",
    "    ax.tick_params(axis='x', labelsize=15)\n",
    "    ax.tick_params(axis='y', labelsize=15)\n",
    "    return"
   ]
  },
  {
   "cell_type": "code",
   "execution_count": 3,
   "metadata": {
    "scrolled": false
   },
   "outputs": [
    {
     "data": {
      "image/png": "[encoded data removed]",
      "text/plain": [
       "<Figure size 432x1080 with 3 Axes>"
      ]
     },
     "metadata": {},
     "output_type": "display_data"
    }
   ],
   "source": [
    "k = 5\n",
    "iterations_to_plot = [50]\n",
    "diffusion_step_size = 1\n",
    "num_trials = 50\n",
    "\n",
    "#fig, axes = plt.subplots(nrows=3, ncols=2, figsize = (12, 15))\n",
    "fig, ax = plt.subplots(nrows=3, ncols=1, figsize = (6, 15))\n",
    "axes_idx = 0\n",
    "\n",
    "for data_generation, problem_kind in [(generate_spirals,'Spirals'), (generate_overlapping_rings,'Rings'),\n",
    "                                      (generate_concentric_highdim,'Concentric hyperspheres')]:\n",
    "    AUC_vals = []\n",
    "    for trial in range(num_trials):\n",
    "        # generate new data\n",
    "        _,data_matrix = data_generation(verbose=False)\n",
    "\n",
    "        # build graph/hypergraph\n",
    "        knn_adj_matrix = build_knn_graph(data_matrix,k)\n",
    "        knn_hgraph_dict = build_knn_hypergraph(data_matrix,k)\n",
    "\n",
    "        # run diffusion\n",
    "        max_iterations_needed = max(iterations_to_plot)\n",
    "        hypergraph_diff_results, graph_diff_results = semi_superivsed_knn_clustering(knn_adj_matrix,\n",
    "                        knn_hgraph_dict, num_iterations = max_iterations_needed, verbose = False)\n",
    "\n",
    "        hypergraph_x = hypergraph_diff_results['x']\n",
    "        graph_x = graph_diff_results['x']\n",
    "\n",
    "        n = data_matrix.shape[0]\n",
    "        labels = np.hstack([np.full(shape=int(n/2),fill_value = -1),np.full(shape=int(n/2),fill_value = 1)])\n",
    "        graph_auc_score = metrics.roc_auc_score(labels, graph_x[-1, :])\n",
    "        hypergraph_auc_score = metrics.roc_auc_score(labels, hypergraph_x[-1, :])\n",
    "\n",
    "        AUC_vals.append((hypergraph_auc_score, graph_auc_score))\n",
    "    final_plot_AUC_hist(AUC_vals, ax = ax[axes_idx], decorated = (axes_idx == 0) )\n",
    "    axes_idx+=1\n",
    "#plt.savefig('AUC_hist.pdf', bbox_inches='tight')\n",
    "plt.show()\n",
    "    "
   ]
  },
  {
   "cell_type": "markdown",
   "metadata": {},
   "source": [
    "# Error by iteration"
   ]
  },
  {
   "cell_type": "code",
   "execution_count": null,
   "metadata": {},
   "outputs": [],
   "source": [
    "def plot_error_vs_iteration(ax,index,diffusion_iterations, \n",
    "                            graph_error_vs_iteration, hypergraph_error_vs_iteration):\n",
    "    plt.rcParams.update({'font.size': 15})\n",
    "    \n",
    "    iterations = np.arange(0,diffusion_iterations)\n",
    "    plotting_label = ['graph','hypergraph']\n",
    "    plotting_color = ['b','o']\n",
    "    for idx,error_array in enumerate([np.array(graph_error_vs_iteration), np.array(hypergraph_error_vs_iteration)]):\n",
    "        mean_error_by_iteration = np.mean(error_array,axis=0)\n",
    "        std_error_by_iteration = np.std(error_array,axis=0)\n",
    "\n",
    "        ax.plot(iterations, mean_error_by_iteration,label = plotting_label[idx])\n",
    "        ax.fill_between(iterations, mean_error_by_iteration-std_error_by_iteration, mean_error_by_iteration+std_error_by_iteration,alpha = 0.5)\n",
    "    # figure formatting\n",
    "    ax.spines[\"top\"].set_visible(False)\n",
    "    ax.spines[\"right\"].set_visible(False)\n",
    "    if index==0:\n",
    "        ax.legend()\n",
    "        ax.set_title('Error versus iteration number', fontsize = 17)\n",
    "    ax.set_ylabel('Error', fontsize = 17)\n",
    "    ax.set_ylim(0,0.5)\n",
    "    ax.tick_params(axis='x', labelsize=15)\n",
    "    ax.tick_params(axis='y', labelsize=15)\n",
    "    if index==2:\n",
    "        ax.set_xlabel('Iteration number', fontsize = 16)\n",
    "    return\n",
    "        "
   ]
  },
  {
   "cell_type": "code",
   "execution_count": null,
   "metadata": {},
   "outputs": [],
   "source": [
    "k = 5\n",
    "diffusion_iterations = 40\n",
    "diffusion_step_size = 1\n",
    "num_trials = 20\n",
    "titlestring = 'blah'\n",
    "\n",
    "fig, ax = plt.subplots(nrows=3, ncols=1,figsize=(10, 15))\n",
    "idx = 0\n",
    "for data_generation, problem_kind in [(generate_spirals,' Spirals'), (generate_overlapping_rings,' Rings'),\n",
    "                                      (generate_concentric_circles,' Concentric')]:\n",
    "    graph_error_vs_iteration, hypergraph_error_vs_iteration = repeated_clustering_experiments(data_generation,k,\n",
    "                                        diffusion_iterations,diffusion_step_size,num_trials,problem_kind)\n",
    "    plot_error_vs_iteration(ax[idx],idx,diffusion_iterations, \n",
    "                            graph_error_vs_iteration, hypergraph_error_vs_iteration)\n",
    "    idx+=1\n",
    "\n",
    "#plt.savefig('error_vs_iteration.pdf', bbox_inches='tight')\n",
    "plt.show()\n"
   ]
  }
 ],
 "metadata": {
  "kernelspec": {
   "display_name": "Python 3",
   "language": "python",
   "name": "python3"
  },
  "language_info": {
   "codemirror_mode": {
    "name": "ipython",
    "version": 3
   },
   "file_extension": ".py",
   "mimetype": "text/x-python",
   "name": "python",
   "nbconvert_exporter": "python",
   "pygments_lexer": "ipython3",
   "version": "3.6.10"
  }
 },
 "nbformat": 4,
 "nbformat_minor": 2
}
