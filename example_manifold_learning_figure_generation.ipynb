{
 "cells": [
  {
   "cell_type": "code",
   "execution_count": null,
   "metadata": {},
   "outputs": [],
   "source": [
    "import numpy as np\n",
    "import matplotlib\n",
    "import matplotlib.pyplot as plt\n",
    "import os\n",
    "from sklearn import metrics\n",
    "\n",
    "from diffusion_functions import *\n",
    "from semi_supervised_manifold_learning import *\n",
    "\n",
    "# commands for displaying animations in jupyter notebook\n",
    "from IPython.display import HTML\n",
    "\n",
    "%load_ext autoreload\n",
    "%autoreload 2"
   ]
  },
  {
   "cell_type": "markdown",
   "metadata": {},
   "source": [
    "# Instance illustration"
   ]
  },
  {
   "cell_type": "code",
   "execution_count": null,
   "metadata": {},
   "outputs": [],
   "source": [
    "def plot_label_comparison_binary(ax, label_vector, data_matrix, titlestring=None):\n",
    "    error, threshold = find_min_sweepcut(label_vector,100,sweep_cut_classification_error)\n",
    "    label_estimates = make_sweep_cut(label_vector, threshold)\n",
    "    error = sweep_cut_classification_error(label_estimates)\n",
    "    im = ax.scatter(data_matrix[:,0],data_matrix[:,1], c=label_estimates.reshape(-1))\n",
    "    \n",
    "    # figure formatting\n",
    "    ax.set_aspect('equal')\n",
    "    ax.spines[\"top\"].set_visible(False)\n",
    "    ax.spines[\"right\"].set_visible(False)\n",
    "    ax.spines[\"bottom\"].set_visible(False)\n",
    "    ax.spines[\"left\"].set_visible(False)\n",
    "    ax.axis('off')\n",
    "    if titlestring=='Abridged':\n",
    "        ax.set_title(f'Classification error = {error:.3f}', fontsize = 15)\n",
    "    else:\n",
    "        ax.set_title(titlestring +f'\\n Classification error = {error:.3f}', fontsize = 15)\n",
    "    return"
   ]
  },
  {
   "cell_type": "code",
   "execution_count": null,
   "metadata": {
    "scrolled": false
   },
   "outputs": [],
   "source": [
    "k = 5\n",
    "target_iternum = 50\n",
    "titlestring = 'blah'\n",
    "\n",
    "fig_binary, ax_binary = plt.subplots(nrows=3, ncols=2,figsize=(10, 15))\n",
    "problem_index = 0\n",
    "for data_generation, problem_kind in [(generate_spirals,' Spirals'), (generate_overlapping_rings,' Rings'),\n",
    "                                      (generate_concentric_highdim,' Concentric Highdim')]:\n",
    "    \n",
    "    graph_x_out, hypergraph_x_out, data_matrix = compare_estimated_labels('PPR',data_generation,k,target_iternum,titlestring=None, diffusion_step_size=1)\n",
    "\n",
    "    for idx,(x,titlestring) in enumerate([(graph_x_out,'Graph'), (hypergraph_x_out,'Hypergraph')]):\n",
    "        if problem_index==0:\n",
    "            plot_label_comparison_binary(ax_binary[problem_index, idx],x, data_matrix,titlestring)\n",
    "        else:\n",
    "            plot_label_comparison_binary(ax_binary[problem_index, idx],x, data_matrix,titlestring = 'Abridged')\n",
    "    problem_index+=1\n",
    "    \n",
    "plt.suptitle(f'Label estimates \\n Iteration {target_iternum}', fontsize = 15)    \n",
    "plt.show()"
   ]
  },
  {
   "cell_type": "markdown",
   "metadata": {},
   "source": [
    "# AUC Histogram"
   ]
  },
  {
   "cell_type": "code",
   "execution_count": null,
   "metadata": {},
   "outputs": [],
   "source": [
    "def final_plot_AUC_hist(AUC_vals, ax, decorated = False):\n",
    "    plt.rcParams.update({'font.size': 15})\n",
    "        \n",
    "    hypergraph_vals = [v[0] for v in AUC_vals]\n",
    "    graph_vals = [v[1] for v in AUC_vals]\n",
    "    \n",
    "    full_values = hypergraph_vals+graph_vals\n",
    "    _, first_bins = np.histogram(full_values, bins = 10)\n",
    "\n",
    "    # second style\n",
    "    ax.hist(graph_vals, bins = first_bins, alpha=0.5, edgecolor = 'black', label = 'graph')\n",
    "    ax.hist(hypergraph_vals, bins = first_bins, alpha=0.5, edgecolor = 'black', label='hypergraph')\n",
    "    \n",
    "    if decorated:\n",
    "        ax.set_title(f'AUC Values at Iteration 50 \\n Results from 50 Independent Trials')\n",
    "        ax.legend()\n",
    "        \n",
    "    # figure formatting\n",
    "    ax.spines[\"top\"].set_visible(False)\n",
    "    ax.spines[\"right\"].set_visible(False)\n",
    "    ax.tick_params(axis='x', labelsize=15)\n",
    "    ax.tick_params(axis='y', labelsize=15)\n",
    "    return"
   ]
  },
  {
   "cell_type": "code",
   "execution_count": null,
   "metadata": {
    "scrolled": false
   },
   "outputs": [],
   "source": [
    "k = 5\n",
    "iterations_to_plot = [50]\n",
    "num_trials = 2\n",
    "\n",
    "fig, ax = plt.subplots(nrows=3, ncols=1, figsize = (6, 15))\n",
    "axes_idx = 0\n",
    "\n",
    "for data_generation, problem_kind in [(generate_spirals,'Spirals'), (generate_overlapping_rings,'Rings'),\n",
    "                                      (generate_concentric_highdim,'Concentric hyperspheres')]:\n",
    "    AUC_vals = []\n",
    "    for trial in range(num_trials):\n",
    "        # generate new data\n",
    "        _,data_matrix = data_generation(verbose=False)\n",
    "\n",
    "        # build graph/hypergraph\n",
    "        knn_adj_matrix = build_knn_graph(data_matrix,k)\n",
    "        knn_hgraph_dict = build_knn_hypergraph(data_matrix,k)\n",
    "\n",
    "        # run diffusion\n",
    "        max_iterations_needed = max(iterations_to_plot)\n",
    "        hypergraph_diff_results, graph_diff_results = diffusion_knn_clustering(knn_adj_matrix,\n",
    "                        knn_hgraph_dict, num_iterations = max_iterations_needed, verbose = False)\n",
    "\n",
    "        hypergraph_x = hypergraph_diff_results['x']\n",
    "        graph_x = graph_diff_results['x']\n",
    "\n",
    "        n = data_matrix.shape[0]\n",
    "        labels = np.hstack([np.full(shape=int(n/2),fill_value = -1),np.full(shape=int(n/2),fill_value = 1)])\n",
    "        graph_auc_score = metrics.roc_auc_score(labels, graph_x[-1, :])\n",
    "        hypergraph_auc_score = metrics.roc_auc_score(labels, hypergraph_x[-1, :])\n",
    "\n",
    "        AUC_vals.append((hypergraph_auc_score, graph_auc_score))\n",
    "    final_plot_AUC_hist(AUC_vals, ax = ax[axes_idx], decorated = (axes_idx == 0) )\n",
    "    axes_idx+=1\n",
    "plt.show()\n",
    "    "
   ]
  },
  {
   "cell_type": "code",
   "execution_count": null,
   "metadata": {},
   "outputs": [],
   "source": []
  }
 ],
 "metadata": {
  "kernelspec": {
   "display_name": "Python 3",
   "language": "python",
   "name": "python3"
  },
  "language_info": {
   "codemirror_mode": {
    "name": "ipython",
    "version": 3
   },
   "file_extension": ".py",
   "mimetype": "text/x-python",
   "name": "python",
   "nbconvert_exporter": "python",
   "pygments_lexer": "ipython3",
   "version": "3.6.10"
  }
 },
 "nbformat": 4,
 "nbformat_minor": 2
}
