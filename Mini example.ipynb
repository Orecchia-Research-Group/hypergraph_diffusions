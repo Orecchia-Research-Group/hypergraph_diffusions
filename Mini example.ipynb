{
 "cells": [
  {
   "cell_type": "code",
   "execution_count": 1,
   "metadata": {},
   "outputs": [],
   "source": [
    "import numpy as np\n",
    "import networkx as nx\n",
    "import matplotlib.pyplot as plt\n",
    "import matplotlib.animation as animation\n",
    "from mpl_toolkits.axes_grid1 import make_axes_locatable\n",
    "import os\n",
    "\n",
    "from semi_supervised_manifold_learning import *\n",
    "from submodular_cut_fns import *\n",
    "\n",
    "# plt.rcParams[\"animation.html\"] = \"jshtml\"\n",
    "# plt.ioff()\n",
    "from IPython.display import HTML\n",
    "from IPython.display import Audio\n",
    "\n",
    "\n",
    "%load_ext autoreload\n",
    "%autoreload 2"
   ]
  },
  {
   "cell_type": "code",
   "execution_count": 14,
   "metadata": {},
   "outputs": [],
   "source": [
    "n = 17\n",
    "m = 9\n",
    "hypergraph = [\n",
    "    (0,1),\n",
    "    (2,3,4),\n",
    "    (4,5),\n",
    "    (5,6,7,8,9,10,11),\n",
    "    (11,12,13),\n",
    "    (10,14),\n",
    "    (14,15,16),\n",
    "    (9,16)\n",
    "]\n",
    "labels = np.hstack([\n",
    "            np.full(shape=8, fill_value=-1),\n",
    "            0,\n",
    "            np.full(shape=8, fill_value=1),\n",
    "        ])\n",
    "label_names = dict({-1: \"c1\", 0: \"mid\",1: \"c2\"})\n",
    "    \n",
    "degree = unweighted_degree(n, hypergraph)\n",
    "node_dict = dict(zip(np.arange(n), np.arange(n)))\n",
    "mini_hypgergraph = dict({\n",
    "        \"n\": n,\n",
    "        \"m\": m,\n",
    "        \"degree\": unweighted_degree(n, hypergraph),\n",
    "        \"hypergraph\": hypergraph,\n",
    "        \"node_dict\": node_dict,\n",
    "        \"labels\": labels,\n",
    "        \"label_names\": label_names,\n",
    "    })\n",
    "\n",
    "seeded = np.zeros(shape=n)\n",
    "for c1_seeds in [0, 4]:\n",
    "    seeded[c1_seeds] = -1\n",
    "for c2_seeds in [13,-1]:    \n",
    "    seeded[c2_seeds] = 1"
   ]
  },
  {
   "cell_type": "code",
   "execution_count": 32,
   "metadata": {},
   "outputs": [
    {
     "name": "stdout",
     "output_type": "stream",
     "text": [
      "[[-0.5       ]\n",
      " [-0.5       ]\n",
      " [ 0.04002316]\n",
      " [ 0.04002316]\n",
      " [ 0.04151214]\n",
      " [ 0.04412848]\n",
      " [ 0.04431802]\n",
      " [ 0.04431802]\n",
      " [ 0.04431802]\n",
      " [ 0.04663109]\n",
      " [ 0.04701455]\n",
      " [ 0.04731412]\n",
      " [ 0.04733478]\n",
      " [ 0.04736883]\n",
      " [ 0.0476559 ]\n",
      " [ 0.04808497]\n",
      " [ 0.04784924]]\n"
     ]
    }
   ],
   "source": [
    "def SSL(hypergraph_dict, seeded_labels, teleportation_factor = 0.1, step_size = 1, num_iterations = 100,\n",
    "       error_tolerance=0.1, verbose = False):\n",
    "    # teleportation_factor corresponds to a resolvent for lambda = effective_lambda\n",
    "    effective_lambda = 2 * teleportation_factor / (1 - teleportation_factor)\n",
    "\n",
    "    # let's extract some parameters\n",
    "    n = hypergraph_dict[\"n\"]\n",
    "    m = hypergraph_dict[\"m\"]\n",
    "    hypergraph = hypergraph_dict[\"hypergraph\"]\n",
    "\n",
    "    degree_dict = hypergraph_dict[\"degree\"]\n",
    "    D = np.array([degree_dict[v] for v in range(n)])\n",
    "    \n",
    "    # PPR Partitioning\n",
    "    if False:\n",
    "        # Algorithm 1 specifies initialization at 0\n",
    "        x0 = np.full(shape=(n, 1), fill_value=0)\n",
    "        _, x, y, fx = diffusion(\n",
    "            x0,\n",
    "            n,\n",
    "            m,\n",
    "            D,\n",
    "            hypergraph,\n",
    "            weights=None,\n",
    "            func=diffusion_functions[\"infinity\"],\n",
    "            s=np.reshape(seeded_labels, newshape = (n,1)),\n",
    "            h=step_size,\n",
    "            T=num_iterations,\n",
    "            verbose=verbose,\n",
    "        )\n",
    "        x_out = (1 - error_tolerance / 2) * np.sum(x, axis=0).flatten()\n",
    "    # Diffusion partitioning\n",
    "    if True:\n",
    "        x0 = np.reshape(seeded_labels, newshape = (n,1))\n",
    "        s_vector = np.zeros_like(x0)\n",
    "        # for our hypergraph, first specify the edge objective function\n",
    "        t, x, y, fx = diffusion(\n",
    "            x0,\n",
    "            n,\n",
    "            m,\n",
    "            D,\n",
    "            hypergraph,\n",
    "            weights=None,\n",
    "            func=diffusion_functions[\"infinity\"],\n",
    "            s=s_vector,\n",
    "            h=step_size,\n",
    "            T=num_iterations,\n",
    "            verbose=verbose,\n",
    "        )\n",
    "        x_out = x[-1,:]\n",
    "        \n",
    "    print(x_out)\n",
    "    return x_out\n",
    "\n",
    "x_out = SSL(mini_hypgergraph, seeded)"
   ]
  },
  {
   "cell_type": "code",
   "execution_count": 33,
   "metadata": {},
   "outputs": [
    {
     "data": {
      "image/png": "[encoded data removed]",
      "text/plain": [
       "<Figure size 432x288 with 1 Axes>"
      ]
     },
     "metadata": {},
     "output_type": "display_data"
    }
   ],
   "source": [
    "plt.plot(list(range(n)), x_out)\n",
    "plt.show()"
   ]
  },
  {
   "cell_type": "code",
   "execution_count": null,
   "metadata": {},
   "outputs": [],
   "source": []
  }
 ],
 "metadata": {
  "kernelspec": {
   "display_name": "Python 3",
   "language": "python",
   "name": "python3"
  },
  "language_info": {
   "codemirror_mode": {
    "name": "ipython",
    "version": 3
   },
   "file_extension": ".py",
   "mimetype": "text/x-python",
   "name": "python",
   "nbconvert_exporter": "python",
   "pygments_lexer": "ipython3",
   "version": "3.6.10"
  }
 },
 "nbformat": 4,
 "nbformat_minor": 2
}
