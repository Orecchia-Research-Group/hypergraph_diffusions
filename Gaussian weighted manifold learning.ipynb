{
 "cells": [
  {
   "cell_type": "code",
   "execution_count": 1,
   "metadata": {},
   "outputs": [],
   "source": [
    "import numpy as np\n",
    "import matplotlib\n",
    "import matplotlib.pyplot as plt\n",
    "import os\n",
    "from sklearn import metrics\n",
    "\n",
    "from diffusion_functions import *\n",
    "from semi_supervised_manifold_learning import *\n",
    "\n",
    "# commands for displaying animations in jupyter notebook\n",
    "from IPython.display import HTML\n",
    "\n",
    "%load_ext autoreload\n",
    "%autoreload 2"
   ]
  },
  {
   "cell_type": "markdown",
   "metadata": {},
   "source": [
    "# Visualization code"
   ]
  },
  {
   "cell_type": "code",
   "execution_count": 2,
   "metadata": {},
   "outputs": [],
   "source": [
    "def plot_label_comparison_binary(ax, label_vector, data_matrix, titlestring=None):\n",
    "    error, threshold = find_min_sweepcut(label_vector,100,sweep_cut_classification_error)\n",
    "    label_estimates = make_sweep_cut(label_vector, threshold)\n",
    "    error = sweep_cut_classification_error(label_estimates)\n",
    "    im = ax.scatter(data_matrix[:,0],data_matrix[:,1], c=label_estimates.reshape(-1))\n",
    "    \n",
    "    # figure formatting\n",
    "    ax.set_aspect('equal')\n",
    "    ax.spines[\"top\"].set_visible(False)\n",
    "    ax.spines[\"right\"].set_visible(False)\n",
    "    ax.spines[\"bottom\"].set_visible(False)\n",
    "    ax.spines[\"left\"].set_visible(False)\n",
    "    ax.axis('off')\n",
    "    if titlestring=='Abridged':\n",
    "        ax.set_title(f'Classification error = {error:.3f}', fontsize = 15)\n",
    "    else:\n",
    "        ax.set_title(titlestring +f'\\n Classification error = {error:.3f}', fontsize = 15)\n",
    "    return\n",
    "\n",
    "def final_plot_AUC_hist(AUC_vals, ax, decorated = False, titlestring = None):\n",
    "    plt.rcParams.update({'font.size': 15})\n",
    "        \n",
    "    hypergraph_vals = [v[0] for v in AUC_vals]\n",
    "    graph_vals = [v[1] for v in AUC_vals]\n",
    "    \n",
    "    full_values = hypergraph_vals+graph_vals\n",
    "    _, first_bins = np.histogram(full_values, bins = 10)\n",
    "\n",
    "    # second style\n",
    "    ax.hist(graph_vals, bins = first_bins, alpha=0.5, edgecolor = 'black', label = 'graph')\n",
    "    ax.hist(hypergraph_vals, bins = first_bins, alpha=0.5, edgecolor = 'black', label='hypergraph')\n",
    "    \n",
    "    if decorated:\n",
    "        #ax.set_title(f'AUC Values at Iteration 50 \\n Results from 50 Independent Trials')\n",
    "        ax.legend()\n",
    "        \n",
    "    # figure formatting\n",
    "    ax.spines[\"top\"].set_visible(False)\n",
    "    ax.spines[\"right\"].set_visible(False)\n",
    "    ax.tick_params(axis='x', labelsize=15)\n",
    "    ax.tick_params(axis='y', labelsize=15)\n",
    "    \n",
    "    if not (titlestring is None):\n",
    "        ax.set_title(titlestring)\n",
    "    return"
   ]
  },
  {
   "cell_type": "markdown",
   "metadata": {},
   "source": [
    "# Spirals instance"
   ]
  },
  {
   "cell_type": "code",
   "execution_count": 17,
   "metadata": {
    "scrolled": false
   },
   "outputs": [
    {
     "name": "stdout",
     "output_type": "stream",
     "text": [
      "> /Users/adeladepavia/Documents/GitHub/hypergraph_diffusions/semi_supervised_manifold_learning.py(288)create_node_weights()\n",
      "-> for h_idx, edge in enumerate(hgraph_dict[\"hypergraph\"]):\n",
      "(Pdb) weights_dict\n",
      "{(0, 0): 0.3233730544747327, (1, 0): 0.312063972649321, (2, 0): 0.6976788246404309, (5, 0): 0.8251823244181009, (6, 0): 0.16276453222887302, (3, 0): 0.302498736849181}\n",
      "(Pdb) c\n",
      "> /Users/adeladepavia/Documents/GitHub/hypergraph_diffusions/semi_supervised_manifold_learning.py(288)create_node_weights()\n",
      "-> for h_idx, edge in enumerate(hgraph_dict[\"hypergraph\"]):\n",
      "(Pdb) weights_dict\n",
      "{(0, 0): 0.3233730544747327, (1, 0): 0.312063972649321, (2, 0): 0.6976788246404309, (5, 0): 0.8251823244181009, (6, 0): 0.16276453222887302, (3, 0): 0.302498736849181, (1, 1): 0.312063972649321, (2, 1): 0.6976788246404309, (0, 1): 0.3233730544747327, (5, 1): 0.8251823244181009, (3, 1): 0.302498736849181, (6, 1): 0.16276453222887302}\n",
      "(Pdb) quit()\n"
     ]
    },
    {
     "ename": "BdbQuit",
     "evalue": "",
     "output_type": "error",
     "traceback": [
      "\u001b[0;31m---------------------------------------------------------------------------\u001b[0m",
      "\u001b[0;31mBdbQuit\u001b[0m                                   Traceback (most recent call last)",
      "\u001b[0;32m<ipython-input-17-7be88470697a>\u001b[0m in \u001b[0;36m<module>\u001b[0;34m()\u001b[0m\n\u001b[1;32m     13\u001b[0m                                                                       \u001b[0mtitlestring\u001b[0m\u001b[0;34m=\u001b[0m\u001b[0;32mNone\u001b[0m\u001b[0;34m,\u001b[0m\u001b[0;34m\u001b[0m\u001b[0;34m\u001b[0m\u001b[0m\n\u001b[1;32m     14\u001b[0m                                                                       \u001b[0mdiffusion_step_size\u001b[0m\u001b[0;34m=\u001b[0m\u001b[0;36m1\u001b[0m\u001b[0;34m,\u001b[0m\u001b[0;34m\u001b[0m\u001b[0;34m\u001b[0m\u001b[0m\n\u001b[0;32m---> 15\u001b[0;31m                                                                       node_weight_method= 'gaussian_to_centroid')\n\u001b[0m\u001b[1;32m     16\u001b[0m \u001b[0;34m\u001b[0m\u001b[0m\n\u001b[1;32m     17\u001b[0m \u001b[0;32mfor\u001b[0m \u001b[0midx\u001b[0m\u001b[0;34m,\u001b[0m\u001b[0;34m(\u001b[0m\u001b[0mx\u001b[0m\u001b[0;34m,\u001b[0m\u001b[0mtitlestring\u001b[0m\u001b[0;34m)\u001b[0m \u001b[0;32min\u001b[0m \u001b[0menumerate\u001b[0m\u001b[0;34m(\u001b[0m\u001b[0;34m[\u001b[0m\u001b[0;34m(\u001b[0m\u001b[0mgraph_x_out\u001b[0m\u001b[0;34m,\u001b[0m\u001b[0;34m'Graph'\u001b[0m\u001b[0;34m)\u001b[0m\u001b[0;34m,\u001b[0m \u001b[0;34m(\u001b[0m\u001b[0mhypergraph_x_out\u001b[0m\u001b[0;34m,\u001b[0m\u001b[0;34m'Hypergraph'\u001b[0m\u001b[0;34m)\u001b[0m\u001b[0;34m]\u001b[0m\u001b[0;34m)\u001b[0m\u001b[0;34m:\u001b[0m\u001b[0;34m\u001b[0m\u001b[0;34m\u001b[0m\u001b[0m\n",
      "\u001b[0;32m~/Documents/GitHub/hypergraph_diffusions/semi_supervised_manifold_learning.py\u001b[0m in \u001b[0;36mcompare_estimated_labels\u001b[0;34m(method, generate_data, k, num_iterations, diffusion_step_size, titlestring, node_weight_method)\u001b[0m\n\u001b[1;32m    582\u001b[0m             \u001b[0mmethod\u001b[0m\u001b[0;34m=\u001b[0m\u001b[0mnode_weight_method\u001b[0m\u001b[0;34m,\u001b[0m\u001b[0;34m\u001b[0m\u001b[0;34m\u001b[0m\u001b[0m\n\u001b[1;32m    583\u001b[0m             \u001b[0mdata_matrix\u001b[0m\u001b[0;34m=\u001b[0m\u001b[0mdata_matrix\u001b[0m\u001b[0;34m,\u001b[0m\u001b[0;34m\u001b[0m\u001b[0;34m\u001b[0m\u001b[0m\n\u001b[0;32m--> 584\u001b[0;31m             \u001b[0mhgraph_dict\u001b[0m\u001b[0;34m=\u001b[0m\u001b[0mknn_hgraph_dict\u001b[0m\u001b[0;34m,\u001b[0m\u001b[0;34m\u001b[0m\u001b[0;34m\u001b[0m\u001b[0m\n\u001b[0m\u001b[1;32m    585\u001b[0m         )\n\u001b[1;32m    586\u001b[0m \u001b[0;34m\u001b[0m\u001b[0m\n",
      "\u001b[0;32m~/Documents/GitHub/hypergraph_diffusions/semi_supervised_manifold_learning.py\u001b[0m in \u001b[0;36mcreate_node_weights\u001b[0;34m(method, data_matrix, hgraph_dict)\u001b[0m\n\u001b[1;32m    286\u001b[0m                 )\n\u001b[1;32m    287\u001b[0m     \u001b[0;32melif\u001b[0m \u001b[0mmethod\u001b[0m \u001b[0;34m==\u001b[0m \u001b[0;34m\"gaussian_to_centroid\"\u001b[0m\u001b[0;34m:\u001b[0m\u001b[0;34m\u001b[0m\u001b[0;34m\u001b[0m\u001b[0m\n\u001b[0;32m--> 288\u001b[0;31m         \u001b[0;32mfor\u001b[0m \u001b[0mh_idx\u001b[0m\u001b[0;34m,\u001b[0m \u001b[0medge\u001b[0m \u001b[0;32min\u001b[0m \u001b[0menumerate\u001b[0m\u001b[0;34m(\u001b[0m\u001b[0mhgraph_dict\u001b[0m\u001b[0;34m[\u001b[0m\u001b[0;34m\"hypergraph\"\u001b[0m\u001b[0;34m]\u001b[0m\u001b[0;34m)\u001b[0m\u001b[0;34m:\u001b[0m\u001b[0;34m\u001b[0m\u001b[0;34m\u001b[0m\u001b[0m\n\u001b[0m\u001b[1;32m    289\u001b[0m             \u001b[0;31m# get entries of data_matrix corresponding to edge\u001b[0m\u001b[0;34m\u001b[0m\u001b[0;34m\u001b[0m\u001b[0;34m\u001b[0m\u001b[0m\n\u001b[1;32m    290\u001b[0m             \u001b[0medge_embedding\u001b[0m \u001b[0;34m=\u001b[0m \u001b[0mdata_matrix\u001b[0m\u001b[0;34m[\u001b[0m\u001b[0medge\u001b[0m\u001b[0;34m,\u001b[0m \u001b[0;34m:\u001b[0m\u001b[0;34m]\u001b[0m\u001b[0;34m\u001b[0m\u001b[0;34m\u001b[0m\u001b[0m\n",
      "\u001b[0;32m~/Documents/GitHub/hypergraph_diffusions/semi_supervised_manifold_learning.py\u001b[0m in \u001b[0;36mcreate_node_weights\u001b[0;34m(method, data_matrix, hgraph_dict)\u001b[0m\n\u001b[1;32m    286\u001b[0m                 )\n\u001b[1;32m    287\u001b[0m     \u001b[0;32melif\u001b[0m \u001b[0mmethod\u001b[0m \u001b[0;34m==\u001b[0m \u001b[0;34m\"gaussian_to_centroid\"\u001b[0m\u001b[0;34m:\u001b[0m\u001b[0;34m\u001b[0m\u001b[0;34m\u001b[0m\u001b[0m\n\u001b[0;32m--> 288\u001b[0;31m         \u001b[0;32mfor\u001b[0m \u001b[0mh_idx\u001b[0m\u001b[0;34m,\u001b[0m \u001b[0medge\u001b[0m \u001b[0;32min\u001b[0m \u001b[0menumerate\u001b[0m\u001b[0;34m(\u001b[0m\u001b[0mhgraph_dict\u001b[0m\u001b[0;34m[\u001b[0m\u001b[0;34m\"hypergraph\"\u001b[0m\u001b[0;34m]\u001b[0m\u001b[0;34m)\u001b[0m\u001b[0;34m:\u001b[0m\u001b[0;34m\u001b[0m\u001b[0;34m\u001b[0m\u001b[0m\n\u001b[0m\u001b[1;32m    289\u001b[0m             \u001b[0;31m# get entries of data_matrix corresponding to edge\u001b[0m\u001b[0;34m\u001b[0m\u001b[0;34m\u001b[0m\u001b[0;34m\u001b[0m\u001b[0m\n\u001b[1;32m    290\u001b[0m             \u001b[0medge_embedding\u001b[0m \u001b[0;34m=\u001b[0m \u001b[0mdata_matrix\u001b[0m\u001b[0;34m[\u001b[0m\u001b[0medge\u001b[0m\u001b[0;34m,\u001b[0m \u001b[0;34m:\u001b[0m\u001b[0;34m]\u001b[0m\u001b[0;34m\u001b[0m\u001b[0;34m\u001b[0m\u001b[0m\n",
      "\u001b[0;32m~/anaconda3/lib/python3.6/bdb.py\u001b[0m in \u001b[0;36mtrace_dispatch\u001b[0;34m(self, frame, event, arg)\u001b[0m\n\u001b[1;32m     49\u001b[0m             \u001b[0;32mreturn\u001b[0m \u001b[0;31m# None\u001b[0m\u001b[0;34m\u001b[0m\u001b[0;34m\u001b[0m\u001b[0m\n\u001b[1;32m     50\u001b[0m         \u001b[0;32mif\u001b[0m \u001b[0mevent\u001b[0m \u001b[0;34m==\u001b[0m \u001b[0;34m'line'\u001b[0m\u001b[0;34m:\u001b[0m\u001b[0;34m\u001b[0m\u001b[0;34m\u001b[0m\u001b[0m\n\u001b[0;32m---> 51\u001b[0;31m             \u001b[0;32mreturn\u001b[0m \u001b[0mself\u001b[0m\u001b[0;34m.\u001b[0m\u001b[0mdispatch_line\u001b[0m\u001b[0;34m(\u001b[0m\u001b[0mframe\u001b[0m\u001b[0;34m)\u001b[0m\u001b[0;34m\u001b[0m\u001b[0;34m\u001b[0m\u001b[0m\n\u001b[0m\u001b[1;32m     52\u001b[0m         \u001b[0;32mif\u001b[0m \u001b[0mevent\u001b[0m \u001b[0;34m==\u001b[0m \u001b[0;34m'call'\u001b[0m\u001b[0;34m:\u001b[0m\u001b[0;34m\u001b[0m\u001b[0;34m\u001b[0m\u001b[0m\n\u001b[1;32m     53\u001b[0m             \u001b[0;32mreturn\u001b[0m \u001b[0mself\u001b[0m\u001b[0;34m.\u001b[0m\u001b[0mdispatch_call\u001b[0m\u001b[0;34m(\u001b[0m\u001b[0mframe\u001b[0m\u001b[0;34m,\u001b[0m \u001b[0marg\u001b[0m\u001b[0;34m)\u001b[0m\u001b[0;34m\u001b[0m\u001b[0;34m\u001b[0m\u001b[0m\n",
      "\u001b[0;32m~/anaconda3/lib/python3.6/bdb.py\u001b[0m in \u001b[0;36mdispatch_line\u001b[0;34m(self, frame)\u001b[0m\n\u001b[1;32m     68\u001b[0m         \u001b[0;32mif\u001b[0m \u001b[0mself\u001b[0m\u001b[0;34m.\u001b[0m\u001b[0mstop_here\u001b[0m\u001b[0;34m(\u001b[0m\u001b[0mframe\u001b[0m\u001b[0;34m)\u001b[0m \u001b[0;32mor\u001b[0m \u001b[0mself\u001b[0m\u001b[0;34m.\u001b[0m\u001b[0mbreak_here\u001b[0m\u001b[0;34m(\u001b[0m\u001b[0mframe\u001b[0m\u001b[0;34m)\u001b[0m\u001b[0;34m:\u001b[0m\u001b[0;34m\u001b[0m\u001b[0;34m\u001b[0m\u001b[0m\n\u001b[1;32m     69\u001b[0m             \u001b[0mself\u001b[0m\u001b[0;34m.\u001b[0m\u001b[0muser_line\u001b[0m\u001b[0;34m(\u001b[0m\u001b[0mframe\u001b[0m\u001b[0;34m)\u001b[0m\u001b[0;34m\u001b[0m\u001b[0;34m\u001b[0m\u001b[0m\n\u001b[0;32m---> 70\u001b[0;31m             \u001b[0;32mif\u001b[0m \u001b[0mself\u001b[0m\u001b[0;34m.\u001b[0m\u001b[0mquitting\u001b[0m\u001b[0;34m:\u001b[0m \u001b[0;32mraise\u001b[0m \u001b[0mBdbQuit\u001b[0m\u001b[0;34m\u001b[0m\u001b[0;34m\u001b[0m\u001b[0m\n\u001b[0m\u001b[1;32m     71\u001b[0m         \u001b[0;32mreturn\u001b[0m \u001b[0mself\u001b[0m\u001b[0;34m.\u001b[0m\u001b[0mtrace_dispatch\u001b[0m\u001b[0;34m\u001b[0m\u001b[0;34m\u001b[0m\u001b[0m\n\u001b[1;32m     72\u001b[0m \u001b[0;34m\u001b[0m\u001b[0m\n",
      "\u001b[0;31mBdbQuit\u001b[0m: "
     ]
    },
    {
     "data": {
      "image/png": "[encoded data removed]",
      "text/plain": [
       "<Figure size 720x360 with 2 Axes>"
      ]
     },
     "metadata": {},
     "output_type": "display_data"
    }
   ],
   "source": [
    "k = 5\n",
    "target_iternum = 100\n",
    "titlestring = 'blah'\n",
    "\n",
    "fig_binary, ax_binary = plt.subplots(nrows=1, ncols=2,figsize=(10, 5))\n",
    "\n",
    "data_generation, problem_kind  = (generate_spirals,' Spirals')\n",
    "    \n",
    "graph_x_out, hypergraph_x_out, data_matrix = compare_estimated_labels('diffusion',\n",
    "                                                                      data_generation,\n",
    "                                                                      k,\n",
    "                                                                      target_iternum,\n",
    "                                                                      titlestring=None, \n",
    "                                                                      diffusion_step_size=1,\n",
    "                                                                      node_weight_method= 'gaussian_to_centroid')\n",
    "\n",
    "for idx,(x,titlestring) in enumerate([(graph_x_out,'Graph'), (hypergraph_x_out,'Hypergraph')]):\n",
    "    plot_label_comparison_binary(ax_binary[idx],x, data_matrix,titlestring)\n",
    "\n",
    "plt.suptitle(f'Iteration {target_iternum}', fontsize = 15)    \n",
    "plt.show()"
   ]
  },
  {
   "cell_type": "code",
   "execution_count": 10,
   "metadata": {
    "scrolled": true
   },
   "outputs": [
    {
     "data": {
      "image/png": "[encoded data removed]",
      "text/plain": [
       "<Figure size 432x360 with 1 Axes>"
      ]
     },
     "metadata": {},
     "output_type": "display_data"
    }
   ],
   "source": [
    "fig, ax = plt.subplots(figsize = (6, 5))\n",
    "AUC_vals = []\n",
    "num_trials = 20\n",
    "\n",
    "# generate dummy data to extract default n value\n",
    "_,data_matrix = data_generation(verbose=False)\n",
    "n = data_matrix.shape[0]\n",
    "labels = np.hstack([np.full(shape=int(n/2),fill_value = -1),np.full(shape=int(n/2),fill_value = 1)])\n",
    "\n",
    "for trial in range(num_trials):\n",
    "    # cluster via PPR computation\n",
    "    graph_x_out, hypergraph_x_out, data_matrix = compare_estimated_labels('PPR',data_generation,k,target_iternum,titlestring=None, diffusion_step_size=1)\n",
    "    graph_auc_score = metrics.roc_auc_score(labels, graph_x_out)\n",
    "    hypergraph_auc_score = metrics.roc_auc_score(labels, hypergraph_x_out)\n",
    "\n",
    "    AUC_vals.append((hypergraph_auc_score, graph_auc_score))\n",
    "final_plot_AUC_hist(AUC_vals, ax = ax, decorated = True, titlestring = problem_kind )"
   ]
  },
  {
   "cell_type": "code",
   "execution_count": null,
   "metadata": {},
   "outputs": [],
   "source": []
  }
 ],
 "metadata": {
  "kernelspec": {
   "display_name": "Python 3",
   "language": "python",
   "name": "python3"
  },
  "language_info": {
   "codemirror_mode": {
    "name": "ipython",
    "version": 3
   },
   "file_extension": ".py",
   "mimetype": "text/x-python",
   "name": "python",
   "nbconvert_exporter": "python",
   "pygments_lexer": "ipython3",
   "version": "3.6.10"
  }
 },
 "nbformat": 4,
 "nbformat_minor": 2
}
